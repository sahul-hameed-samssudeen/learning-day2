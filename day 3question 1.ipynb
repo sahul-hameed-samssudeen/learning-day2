{
  "cells": [
    {
      "cell_type": "markdown",
      "source": [],
      "metadata": {
        "id": "XD-1yKuNuyLx"
      }
    },
    {
      "cell_type": "code",
      "source": [
        "num1=5\n",
        "num2=8\n",
        "if(num1<num2):\n",
        "  print(\"right\")\n",
        "else:\n",
        "  print(\"wrong\")"
      ],
      "metadata": {
        "id": "EN0NSvWIvGFP",
        "outputId": "3c21e823-34d8-4a00-c449-0454c0e382da",
        "colab": {
          "base_uri": "https://localhost:8080/"
        }
      },
      "execution_count": 12,
      "outputs": [
        {
          "output_type": "stream",
          "name": "stdout",
          "text": [
            "right\n"
          ]
        }
      ]
    }
  ],
  "metadata": {
    "colab": {
      "provenance": []
    },
    "kernelspec": {
      "display_name": "Python 3",
      "name": "python3"
    },
    "language_info": {
      "name": "python"
    }
  },
  "nbformat": 4,
  "nbformat_minor": 0
}