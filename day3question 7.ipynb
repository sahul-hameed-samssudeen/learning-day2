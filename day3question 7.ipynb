{
  "cells": [
    {
      "cell_type": "markdown",
      "source": [],
      "metadata": {
        "id": "XD-1yKuNuyLx"
      }
    },
    {
      "cell_type": "code",
      "source": [
        "grade=input(\"enter the grade student obtained : \")\n",
        "if(grade==\"A\"):\n",
        "    print(\"excellent\")\n",
        "elif(grade==\"B\"):\n",
        "    print(\"good\")\n",
        "elif(grade==\"C\"):\n",
        "    print(\"satisfactory\")\n",
        "elif(grade==\"D\"):\n",
        "    print(\"need improvement\")\n",
        "elif(grade==\"F\"):\n",
        "    print(\"fail\")\n",
        "else:\n",
        "    print(\"invalid grade\")\n"
      ],
      "metadata": {
        "colab": {
          "base_uri": "https://localhost:8080/"
        },
        "id": "L8KfhSEHwkjm",
        "outputId": "322bbd68-a6ab-44e1-a696-92754009c787"
      },
      "execution_count": 20,
      "outputs": [
        {
          "output_type": "stream",
          "name": "stdout",
          "text": [
            "enter the grade student obtained : A\n",
            "excellent\n"
          ]
        }
      ]
    }
  ],
  "metadata": {
    "colab": {
      "provenance": []
    },
    "kernelspec": {
      "display_name": "Python 3",
      "name": "python3"
    },
    "language_info": {
      "name": "python"
    }
  },
  "nbformat": 4,
  "nbformat_minor": 0
}