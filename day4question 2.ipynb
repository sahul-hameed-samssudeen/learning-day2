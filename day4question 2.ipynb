{
  "cells": [
    {
      "cell_type": "markdown",
      "source": [],
      "metadata": {
        "id": "XD-1yKuNuyLx"
      }
    },
    {
      "cell_type": "code",
      "source": [
        "\n",
        "#Find the Greatest Common Divisor (GCD) or Highest Common Factor (HCF) of two given\n",
        "numbersa=int(input(\"enter the first number \"))\n",
        "b=int(input(\"enter the second number\"))\n",
        "i=1\n",
        "while(i<=a and i<=b):\n",
        "    if(a%i==0 and b%i==0):\n",
        "        gcd=i\n",
        "    i=i+1\n",
        "print(\"gcd is \",gcd)\n"
      ],
      "metadata": {
        "colab": {
          "base_uri": "https://localhost:8080/"
        },
        "id": "L8KfhSEHwkjm",
        "outputId": "aa8ba495-ed1b-4bcf-e5e4-48d0941aa8f6"
      },
      "execution_count": 26,
      "outputs": [
        {
          "output_type": "stream",
          "name": "stdout",
          "text": [
            "enter number 1 =  40\n",
            "40\n",
            "enter number 2 =  20\n",
            "60\n",
            "enter number 3 =  34\n",
            "94\n",
            "enter number 4 =  23\n",
            "117\n",
            "enter number 5 =  21\n",
            "138\n"
          ]
        }
      ]
    }
  ],
  "metadata": {
    "colab": {
      "provenance": []
    },
    "kernelspec": {
      "display_name": "Python 3",
      "name": "python3"
    },
    "language_info": {
      "name": "python"
    }
  },
  "nbformat": 4,
  "nbformat_minor": 0
}