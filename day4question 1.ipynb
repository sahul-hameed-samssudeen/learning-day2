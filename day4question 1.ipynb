{
  "cells": [
    {
      "cell_type": "markdown",
      "source": [],
      "metadata": {
        "id": "XD-1yKuNuyLx"
      }
    },
    {
      "cell_type": "code",
      "source": [
        "#Write a Python program to take 5 integers from user using a while loop and print their average value.\n",
        "total=0\n",
        "count=0\n",
        "\n",
        "while(count<5):\n",
        "    num=int(input(\"enter number \"+str(count+1)+\" =  \"))\n",
        "    count=count+1\n",
        "    total+=num\n",
        "    avarage=total/num\n",
        "    print(total)\n"
      ],
      "metadata": {
        "colab": {
          "base_uri": "https://localhost:8080/"
        },
        "id": "L8KfhSEHwkjm",
        "outputId": "aa8ba495-ed1b-4bcf-e5e4-48d0941aa8f6"
      },
      "execution_count": 26,
      "outputs": [
        {
          "output_type": "stream",
          "name": "stdout",
          "text": [
            "enter number 1 =  40\n",
            "40\n",
            "enter number 2 =  20\n",
            "60\n",
            "enter number 3 =  34\n",
            "94\n",
            "enter number 4 =  23\n",
            "117\n",
            "enter number 5 =  21\n",
            "138\n"
          ]
        }
      ]
    }
  ],
  "metadata": {
    "colab": {
      "provenance": []
    },
    "kernelspec": {
      "display_name": "Python 3",
      "name": "python3"
    },
    "language_info": {
      "name": "python"
    }
  },
  "nbformat": 4,
  "nbformat_minor": 0
}