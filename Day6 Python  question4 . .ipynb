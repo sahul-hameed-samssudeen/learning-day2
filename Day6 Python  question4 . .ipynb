{
  "cells": [
    {
      "cell_type": "markdown",
      "source": [],
      "metadata": {
        "id": "XD-1yKuNuyLx"
      }
    },
    {
      "cell_type": "code",
      "source": [
        "#Check if 'apple' is present in the fruits list\n",
        "fruits=[\"apple\",\"banana\",\"orrange\"]\n",
        "print(fruits)\n",
        "fruits.append(\"grape\")\n",
        "print(fruits)\n",
        "fruits.remove(\"banana\")\n",
        "print(fruits)\n",
        "if 'apple'  in fruits:\n",
        "  print(\"yes 'apple'is presented in the fruits list.\")\n",
        "else:\n",
        "     print(\"no 'apple'is not present in the fruits list.\")\n"
      ],
      "metadata": {
        "colab": {
          "base_uri": "https://localhost:8080/"
        },
        "id": "tkTsngyO61b-",
        "outputId": "17f6325a-eee0-4152-8096-e66f81532849"
      },
      "execution_count": 7,
      "outputs": [
        {
          "output_type": "stream",
          "name": "stdout",
          "text": [
            "['apple', 'banana', 'orrange']\n",
            "['apple', 'banana', 'orrange', 'grape']\n",
            "['apple', 'orrange', 'grape']\n",
            "yes 'apple'is presented in the fruits list.\n"
          ]
        }
      ]
    },
    {
      "cell_type": "code",
      "source": [],
      "metadata": {
        "id": "bAi2XMZ68WyD"
      },
      "execution_count": null,
      "outputs": []
    }
  ],
  "metadata": {
    "colab": {
      "provenance": []
    },
    "kernelspec": {
      "display_name": "Python 3",
      "name": "python3"
    },
    "language_info": {
      "name": "python"
    }
  },
  "nbformat": 4,
  "nbformat_minor": 0
}