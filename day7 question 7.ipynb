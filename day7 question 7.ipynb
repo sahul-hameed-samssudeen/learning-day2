{
  "cells": [
    {
      "cell_type": "code",
      "execution_count": 1,
      "metadata": {
        "colab": {
          "base_uri": "https://localhost:8080/"
        },
        "id": "MblfSPtSc9r1",
        "outputId": "cf27c4b0-93c5-44a0-ea60-6b1c9d779269"
      },
      "outputs": [
        {
          "output_type": "stream",
          "name": "stdout",
          "text": [
            "colors is not subset of fruits\n"
          ]
        }
      ],
      "source": [
        "#Check if the colors set is a subset of the fruits set.\n",
        "fruits={\"apple\",\"orange\",\"banana\"}\n",
        "colors={\"red\",\"blue\",\"green\"}\n",
        "if colors.issubset(fruits):\n",
        "  print(\"colors is subset of fruits\")\n",
        "else:\n",
        "  print(\"colors is not subset of fruits\")"
      ]
    }
  ],
  "metadata": {
    "colab": {
      "provenance": []
    },
    "kernelspec": {
      "display_name": "Python 3",
      "name": "python3"
    },
    "language_info": {
      "name": "python"
    }
  },
  "nbformat": 4,
  "nbformat_minor": 0
}