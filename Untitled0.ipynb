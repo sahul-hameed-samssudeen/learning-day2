{
  "cells": [
    {
      "cell_type": "code",
      "source": [
        "num1=10\n",
        "num2=10.0\n",
        "my_name=\"hameed\"\n",
        "print(num1,num2,my_name)\n",
        "print()\n"
      ],
      "metadata": {
        "colab": {
          "base_uri": "https://localhost:8080/"
        },
        "id": "MblfSPtSc9r1",
        "outputId": "041a1435-f748-468a-b8eb-639953269c59"
      },
      "execution_count": 5,
      "outputs": [
        {
          "output_type": "stream",
          "name": "stdout",
          "text": [
            "10 10.0 hameed\n",
            "\n"
          ]
        }
      ]
    }
  ],
  "metadata": {
    "colab": {
      "provenance": []
    },
    "kernelspec": {
      "display_name": "Python 3",
      "name": "python3"
    },
    "language_info": {
      "name": "python"
    }
  },
  "nbformat": 4,
  "nbformat_minor": 0
}