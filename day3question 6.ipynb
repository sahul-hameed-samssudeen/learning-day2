{
  "cells": [
    {
      "cell_type": "markdown",
      "source": [],
      "metadata": {
        "id": "XD-1yKuNuyLx"
      }
    },
    {
      "cell_type": "code",
      "source": [
        "temperature=int(input(\"enter the temperature : \"))\n",
        "if(temperature<0):\n",
        "    print(\"freezing\")\n",
        "elif( temperature<=18):\n",
        "        print(\"cold\")\n",
        "elif(temperature<=30):\n",
        "            print(\"warm\")\n",
        "else:\n",
        "                print(\"hot\")\n"
      ],
      "metadata": {
        "colab": {
          "base_uri": "https://localhost:8080/"
        },
        "id": "L8KfhSEHwkjm",
        "outputId": "03ee9122-0c9b-4e47-d6c0-a1ff311e4ca2"
      },
      "execution_count": 18,
      "outputs": [
        {
          "output_type": "stream",
          "name": "stdout",
          "text": [
            "enter the temperature : 28\n",
            "warm\n"
          ]
        }
      ]
    }
  ],
  "metadata": {
    "colab": {
      "provenance": []
    },
    "kernelspec": {
      "display_name": "Python 3",
      "name": "python3"
    },
    "language_info": {
      "name": "python"
    }
  },
  "nbformat": 4,
  "nbformat_minor": 0
}