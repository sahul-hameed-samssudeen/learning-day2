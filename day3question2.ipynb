{
  "cells": [
    {
      "cell_type": "markdown",
      "source": [],
      "metadata": {
        "id": "XD-1yKuNuyLx"
      }
    },
    {
      "cell_type": "code",
      "source": [
        "a=int(input(\"enter a value for a :\"))\n",
        "if(a%2==0):\n",
        "  print(\"the eiven number\",a,\"is even\")\n",
        "else:\n",
        "  print(\"the eiven number\",a,\"is odd\")"
      ],
      "metadata": {
        "id": "L8KfhSEHwkjm",
        "outputId": "fabe3ffa-7d33-4997-bdb3-509e2255f615",
        "colab": {
          "base_uri": "https://localhost:8080/"
        }
      },
      "execution_count": 13,
      "outputs": [
        {
          "output_type": "stream",
          "name": "stdout",
          "text": [
            "enter a value for a :30\n",
            "the eiven number 30 is even\n"
          ]
        }
      ]
    }
  ],
  "metadata": {
    "colab": {
      "provenance": []
    },
    "kernelspec": {
      "display_name": "Python 3",
      "name": "python3"
    },
    "language_info": {
      "name": "python"
    }
  },
  "nbformat": 4,
  "nbformat_minor": 0
}