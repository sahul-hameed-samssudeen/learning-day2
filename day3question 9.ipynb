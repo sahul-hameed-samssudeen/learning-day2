{
  "cells": [
    {
      "cell_type": "markdown",
      "source": [],
      "metadata": {
        "id": "XD-1yKuNuyLx"
      }
    },
    {
      "cell_type": "code",
      "source": [
        "n=int(input(\"enter positive integer : \"))\n",
        "table=int(input(\"enter the number expected upto table : \"))\n",
        "\n",
        "if(n<=0 or table <=0 ):\n",
        "      print(\"please enter positive number : \")\n",
        "else:\n",
        "    print(f\"multiplication table for { n } upto { table } :\")\n",
        "\n",
        "for i in range (1,table+1):\n",
        "    result=n*i\n",
        "    print(f\" {n} x {i} =  {result}\")\n",
        "\n"
      ],
      "metadata": {
        "colab": {
          "base_uri": "https://localhost:8080/"
        },
        "id": "L8KfhSEHwkjm",
        "outputId": "36bf3254-0900-4367-e976-9301ab7e04ea"
      },
      "execution_count": 23,
      "outputs": [
        {
          "output_type": "stream",
          "name": "stdout",
          "text": [
            "enter positive integer : 24\n",
            "enter the number expected upto table : 11\n",
            "multiplication table for 24 upto 11 :\n",
            " 24 x 1 =  24\n",
            " 24 x 2 =  48\n",
            " 24 x 3 =  72\n",
            " 24 x 4 =  96\n",
            " 24 x 5 =  120\n",
            " 24 x 6 =  144\n",
            " 24 x 7 =  168\n",
            " 24 x 8 =  192\n",
            " 24 x 9 =  216\n",
            " 24 x 10 =  240\n",
            " 24 x 11 =  264\n"
          ]
        }
      ]
    }
  ],
  "metadata": {
    "colab": {
      "provenance": []
    },
    "kernelspec": {
      "display_name": "Python 3",
      "name": "python3"
    },
    "language_info": {
      "name": "python"
    }
  },
  "nbformat": 4,
  "nbformat_minor": 0
}