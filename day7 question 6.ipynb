{
  "cells": [
    {
      "cell_type": "markdown",
      "source": [],
      "metadata": {
        "id": "XD-1yKuNuyLx"
      }
    },
    {
      "cell_type": "code",
      "source": [
        "#Use the difference method to find the elements that are unique to the fruits set.\n",
        "fruits={\"apple\",\"red\",\"banana\",\"orange\"}\n",
        "print(fruits)\n",
        "#Create a new set named colors with the elements 'red', 'green', and 'blue'.\n",
        "colors={\"apple\",\"green\",\"blue\"}\n",
        "print(colors)\n",
        "#Use the union method to combine the fruits and colors sets into a single set.\n",
        "newset=fruits.union(colors)\n",
        "print(newset)\n",
        "unique_elements = fruits.difference(colors)\n",
        "print(unique_elements)"
      ],
      "metadata": {
        "colab": {
          "base_uri": "https://localhost:8080/"
        },
        "id": "DrQ_nmaczeTg",
        "outputId": "95f340fa-9df4-445a-8feb-a7f1cfb726b7"
      },
      "execution_count": 18,
      "outputs": [
        {
          "output_type": "stream",
          "name": "stdout",
          "text": [
            "{'red', 'apple', 'banana', 'orange'}\n",
            "{'blue', 'green', 'apple'}\n",
            "{'red', 'green', 'banana', 'blue', 'apple', 'orange'}\n",
            "{'red', 'banana', 'orange'}\n"
          ]
        }
      ]
    }
  ],
  "metadata": {
    "colab": {
      "provenance": []
    },
    "kernelspec": {
      "display_name": "Python 3",
      "name": "python3"
    },
    "language_info": {
      "name": "python"
    }
  },
  "nbformat": 4,
  "nbformat_minor": 0
}