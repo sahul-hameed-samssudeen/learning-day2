{
  "cells": [
    {
      "cell_type": "code",
      "execution_count": 28,
      "metadata": {
        "colab": {
          "base_uri": "https://localhost:8080/",
          "height": 34
        },
        "id": "MblfSPtSc9r1",
        "outputId": "278ee7cf-df4d-409d-a840-6124918df3e1"
      },
      "outputs": [
        {
          "output_type": "display_data",
          "data": {
            "text/plain": [
              "{'name': 'alice', 'age': '15', 'grade': 'A'}"
            ]
          },
          "metadata": {}
        }
      ],
      "source": [
        "student={\"name\":\"alice\",\"age\":\"15\",\"grade\":\"A\"}\n",
        "display(student)"
      ]
    }
  ],
  "metadata": {
    "colab": {
      "provenance": []
    },
    "kernelspec": {
      "display_name": "Python 3",
      "name": "python3"
    },
    "language_info": {
      "name": "python"
    }
  },
  "nbformat": 4,
  "nbformat_minor": 0
}