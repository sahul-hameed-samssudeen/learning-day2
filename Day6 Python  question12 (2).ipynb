{
  "cells": [
    {
      "cell_type": "markdown",
      "source": [],
      "metadata": {
        "id": "XD-1yKuNuyLx"
      }
    },
    {
      "cell_type": "code",
      "source": [],
      "metadata": {
        "id": "DrQ_nmaczeTg"
      },
      "execution_count": null,
      "outputs": []
    },
    {
      "cell_type": "code",
      "source": [
        "#Find the index of 'Wednesday' in the days tuple using the index method.\n",
        "days=(\"monday\",\"tuesday\",\"wednesday\")\n",
        "print(days)\n",
        "third_day=days[2]\n",
        "print(third_day)\n",
        "tuesday_count=days.count(\"tuesday\")\n",
        "print(tuesday_count)\n",
        "index_wednesday=days.index(\"wednesday\")\n",
        "print(index_wednesday)\n"
      ],
      "metadata": {
        "colab": {
          "base_uri": "https://localhost:8080/"
        },
        "id": "bAi2XMZ68WyD",
        "outputId": "89a1d347-4915-44f8-8ebd-ecab7660ea12"
      },
      "execution_count": 22,
      "outputs": [
        {
          "output_type": "stream",
          "name": "stdout",
          "text": [
            "('monday', 'tuesday', 'wednesday')\n",
            "wednesday\n",
            "1\n",
            "2\n"
          ]
        }
      ]
    }
  ],
  "metadata": {
    "colab": {
      "provenance": []
    },
    "kernelspec": {
      "display_name": "Python 3",
      "name": "python3"
    },
    "language_info": {
      "name": "python"
    }
  },
  "nbformat": 4,
  "nbformat_minor": 0
}