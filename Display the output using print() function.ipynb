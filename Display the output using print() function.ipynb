{
  "cells": [
    {
      "cell_type": "code",
      "source": [
        "user_name=input(\"enter your name:\")\n",
        "user_age=input (\"enter your age :\")\n",
        "print(f\"my name is :{user_name}\")\n",
        "print(f\"my age is :{user_age}\")"
      ],
      "metadata": {
        "id": "bZGCzG46joXe",
        "outputId": "d8f3b6c3-d115-4c21-fb47-05b68d4f25f7",
        "colab": {
          "base_uri": "https://localhost:8080/"
        }
      },
      "execution_count": 9,
      "outputs": [
        {
          "output_type": "stream",
          "name": "stdout",
          "text": [
            "enter your name:sahul hameed samsudeen\n",
            "enter your age :36\n",
            "my name is :sahul hameed samsudeen\n",
            "my age is :36\n"
          ]
        }
      ]
    }
  ],
  "metadata": {
    "colab": {
      "provenance": []
    },
    "kernelspec": {
      "display_name": "Python 3",
      "name": "python3"
    },
    "language_info": {
      "name": "python"
    }
  },
  "nbformat": 4,
  "nbformat_minor": 0
}