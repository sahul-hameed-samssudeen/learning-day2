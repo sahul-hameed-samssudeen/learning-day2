{
  "cells": [
    {
      "cell_type": "markdown",
      "source": [],
      "metadata": {
        "id": "XD-1yKuNuyLx"
      }
    },
    {
      "cell_type": "code",
      "source": [
        "year=int(input(\"enter the year you want check whether it is leap year or not :\"))\n",
        "if(year%4==0 and year%100!=0 or year%400==0):\n",
        "    print(\"The given year is\",year,\" leap year\")\n",
        "else:\n",
        "    print(\"The given year  \",year,\"is not the leap year\")\n"
      ],
      "metadata": {
        "colab": {
          "base_uri": "https://localhost:8080/"
        },
        "id": "L8KfhSEHwkjm",
        "outputId": "2aafc24e-b831-48d3-c5b9-750e3386d689"
      },
      "execution_count": 14,
      "outputs": [
        {
          "output_type": "stream",
          "name": "stdout",
          "text": [
            "enter the year you want check whether it is leap year or not :2084\n",
            "The given year is 2084  leap year\n"
          ]
        }
      ]
    }
  ],
  "metadata": {
    "colab": {
      "provenance": []
    },
    "kernelspec": {
      "display_name": "Python 3",
      "name": "python3"
    },
    "language_info": {
      "name": "python"
    }
  },
  "nbformat": 4,
  "nbformat_minor": 0
}