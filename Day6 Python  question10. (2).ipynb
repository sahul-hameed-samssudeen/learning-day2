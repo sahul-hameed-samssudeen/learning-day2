{
  "cells": [
    {
      "cell_type": "markdown",
      "source": [],
      "metadata": {
        "id": "XD-1yKuNuyLx"
      }
    },
    {
      "cell_type": "code",
      "source": [
        "#Access the second element of the days tuple and display it.\n",
        "\n",
        "days=(\"monday\",\"tuesday\",\"wednessday\")\n",
        "print(days)\n",
        "third_day=days[2]\n",
        "print(third_day)\n"
      ],
      "metadata": {
        "colab": {
          "base_uri": "https://localhost:8080/"
        },
        "id": "bAi2XMZ68WyD",
        "outputId": "8d378408-5cdf-4b93-ec0a-d34a4cfdb98e"
      },
      "execution_count": 11,
      "outputs": [
        {
          "output_type": "stream",
          "name": "stdout",
          "text": [
            "('monday', 'tuesday', 'wednessday')\n",
            "wednessday\n"
          ]
        }
      ]
    }
  ],
  "metadata": {
    "colab": {
      "provenance": []
    },
    "kernelspec": {
      "display_name": "Python 3",
      "name": "python3"
    },
    "language_info": {
      "name": "python"
    }
  },
  "nbformat": 4,
  "nbformat_minor": 0
}