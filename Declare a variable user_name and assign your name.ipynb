{
  "cells": [
    {
      "cell_type": "code",
      "source": [
        "user_name=input(\"enter your name\")\n",
        "user_age=input(\"enter your age\")\n",
        "print(user_name,user_age)"
      ],
      "metadata": {
        "id": "qi63GQP5hJZD",
        "outputId": "a1c23ab7-0e24-4ab2-df2d-6e727b9e8c7b",
        "colab": {
          "base_uri": "https://localhost:8080/"
        }
      },
      "execution_count": 8,
      "outputs": [
        {
          "output_type": "stream",
          "name": "stdout",
          "text": [
            "enter your namesahul hameed samsudeen\n",
            "enter your age36\n",
            "sahul hameed samsudeen 36\n"
          ]
        }
      ]
    }
  ],
  "metadata": {
    "colab": {
      "provenance": []
    },
    "kernelspec": {
      "display_name": "Python 3",
      "name": "python3"
    },
    "language_info": {
      "name": "python"
    }
  },
  "nbformat": 4,
  "nbformat_minor": 0
}