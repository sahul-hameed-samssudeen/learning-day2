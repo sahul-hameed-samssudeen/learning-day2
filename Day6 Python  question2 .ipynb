{
  "cells": [
    {
      "cell_type": "markdown",
      "source": [],
      "metadata": {
        "id": "XD-1yKuNuyLx"
      }
    },
    {
      "cell_type": "code",
      "source": [
        "#Add a new fruit, 'grape', to the existing fruits list.\n",
        "fruits=[\"apple\",\"banana\",\"orrange\"]\n",
        "print(fruits)\n",
        "fruits.append(\"grape\")\n",
        "print(fruits)"
      ],
      "metadata": {
        "colab": {
          "base_uri": "https://localhost:8080/"
        },
        "id": "tkTsngyO61b-",
        "outputId": "dfa4c2b1-fc9d-45a4-ffe3-e12ee611d60f"
      },
      "execution_count": 3,
      "outputs": [
        {
          "metadata": {
            "tags": null
          },
          "name": "stdout",
          "output_type": "stream",
          "text": [
            "['apple', 'banana', 'orrange']\n",
            "['apple', 'banana', 'orrange', 'grape']\n"
          ]
        }
      ]
    },
    {
      "cell_type": "code",
      "source": [],
      "metadata": {
        "id": "bAi2XMZ68WyD"
      },
      "execution_count": null,
      "outputs": []
    }
  ],
  "metadata": {
    "colab": {
      "provenance": []
    },
    "kernelspec": {
      "display_name": "Python 3",
      "name": "python3"
    },
    "language_info": {
      "name": "python"
    }
  },
  "nbformat": 4,
  "nbformat_minor": 0
}