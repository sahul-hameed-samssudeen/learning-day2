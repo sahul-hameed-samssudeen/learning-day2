{
  "cells": [
    {
      "cell_type": "markdown",
      "source": [],
      "metadata": {
        "id": "XD-1yKuNuyLx"
      }
    },
    {
      "cell_type": "code",
      "source": [
        "#Create a Python list named fruits with the elements 'apple', 'banana', and 'orange\n",
        "fruits=[\"apple\",\"banana\",\"orrange\"]\n",
        "print(fruits)"
      ],
      "metadata": {
        "id": "tkTsngyO61b-",
        "outputId": "d8d2f8f2-c852-4b1a-b3b2-101481d4e5c1",
        "colab": {
          "base_uri": "https://localhost:8080/"
        }
      },
      "execution_count": 1,
      "outputs": [
        {
          "output_type": "stream",
          "name": "stdout",
          "text": [
            "['apple', 'banana', 'orrange']\n"
          ]
        }
      ]
    }
  ],
  "metadata": {
    "colab": {
      "provenance": []
    },
    "kernelspec": {
      "display_name": "Python 3",
      "name": "python3"
    },
    "language_info": {
      "name": "python"
    }
  },
  "nbformat": 4,
  "nbformat_minor": 0
}