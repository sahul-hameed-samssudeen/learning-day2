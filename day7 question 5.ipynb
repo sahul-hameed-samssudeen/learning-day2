{
  "cells": [
    {
      "cell_type": "markdown",
      "source": [],
      "metadata": {
        "id": "XD-1yKuNuyLx"
      }
    },
    {
      "cell_type": "code",
      "source": [
        "#Create a Python set named fruits with the elements 'apple', 'banana', and 'orange'.\n",
        "fruits={\"apple\",\"banana\",\"orange\"}\n",
        "print(fruits)\n",
        "#Create a new set named colors with the elements 'red', 'green', and 'blue'.\n",
        "colors={\"red\",\"green\",\"blue\"}\n",
        "print(colors)\n",
        "#Use the union method to combine the fruits and colors sets into a single set.\n",
        "newset=fruits.union(colors)\n",
        "print(newset)"
      ],
      "metadata": {
        "colab": {
          "base_uri": "https://localhost:8080/"
        },
        "id": "DrQ_nmaczeTg",
        "outputId": "e04c7175-d787-4d79-ac67-4ece0524c179"
      },
      "execution_count": 12,
      "outputs": [
        {
          "output_type": "stream",
          "name": "stdout",
          "text": [
            "{'apple', 'banana', 'orange'}\n",
            "{'red', 'blue', 'green'}\n",
            "{'red', 'green', 'banana', 'blue', 'apple', 'orange'}\n"
          ]
        }
      ]
    }
  ],
  "metadata": {
    "colab": {
      "provenance": []
    },
    "kernelspec": {
      "display_name": "Python 3",
      "name": "python3"
    },
    "language_info": {
      "name": "python"
    }
  },
  "nbformat": 4,
  "nbformat_minor": 0
}