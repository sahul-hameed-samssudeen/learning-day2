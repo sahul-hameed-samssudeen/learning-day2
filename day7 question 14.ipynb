{
  "cells": [
    {
      "cell_type": "code",
      "execution_count": 47,
      "metadata": {
        "colab": {
          "base_uri": "https://localhost:8080/",
          "height": 69
        },
        "id": "MblfSPtSc9r1",
        "outputId": "aea7dffd-86d1-4d05-c2ac-8d8ba0154442"
      },
      "outputs": [
        {
          "output_type": "display_data",
          "data": {
            "text/plain": [
              "{'name': 'alice', 'age': '15', 'grade': 'A'}"
            ]
          },
          "metadata": {}
        },
        {
          "output_type": "stream",
          "name": "stdout",
          "text": [
            "{'name': 'alice', 'age': '15', 'grade': 'B'}\n",
            "Key exists in the dictionary.\n"
          ]
        }
      ],
      "source": [
        "#Check if the key 'grade' is present in the student dictionary\n",
        "student={\"name\":\"alice\",\"age\":\"15\",\"grade\":\"A\"}\n",
        "display(student)\n",
        "student[\"grade\"]=\"B\"\n",
        "print(student)\n",
        "if \"grade\" in student:\n",
        "    print(\"Key exists in the dictionary.\")\n",
        "else:\n",
        "    print(\"Key does not exist in the dictionary.\")\n"
      ]
    }
  ],
  "metadata": {
    "colab": {
      "provenance": []
    },
    "kernelspec": {
      "display_name": "Python 3",
      "name": "python3"
    },
    "language_info": {
      "name": "python"
    }
  },
  "nbformat": 4,
  "nbformat_minor": 0
}