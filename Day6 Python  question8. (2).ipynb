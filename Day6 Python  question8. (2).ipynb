{
  "cells": [
    {
      "cell_type": "markdown",
      "source": [],
      "metadata": {
        "id": "XD-1yKuNuyLx"
      }
    },
    {
      "cell_type": "code",
      "source": [
        "# Reverse the order of elements in the fruits list using the reverse method..\n",
        "fruits=[\"apple\",\"banana\",\"grapes\",\"mango\",\"orange\"]\n",
        "numbers=[1,2,3]\n",
        "fruits.extend(numbers)\n",
        "print(fruits)\n",
        "fruits.index(\"orange\")\n",
        "fruits.reverse()\n",
        "print(fruits)\n",
        "\n"
      ],
      "metadata": {
        "colab": {
          "base_uri": "https://localhost:8080/"
        },
        "id": "bAi2XMZ68WyD",
        "outputId": "04d6f802-4b24-4d16-83fc-8dcfe258987a"
      },
      "execution_count": 7,
      "outputs": [
        {
          "output_type": "stream",
          "name": "stdout",
          "text": [
            "['apple', 'banana', 'grapes', 'mango', 'orange', 1, 2, 3]\n",
            "[3, 2, 1, 'orange', 'mango', 'grapes', 'banana', 'apple']\n"
          ]
        }
      ]
    }
  ],
  "metadata": {
    "colab": {
      "provenance": []
    },
    "kernelspec": {
      "display_name": "Python 3",
      "name": "python3"
    },
    "language_info": {
      "name": "python"
    }
  },
  "nbformat": 4,
  "nbformat_minor": 0
}