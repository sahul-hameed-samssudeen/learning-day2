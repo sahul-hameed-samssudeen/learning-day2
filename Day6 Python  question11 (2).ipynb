{
  "cells": [
    {
      "cell_type": "markdown",
      "source": [],
      "metadata": {
        "id": "XD-1yKuNuyLx"
      }
    },
    {
      "cell_type": "code",
      "source": [],
      "metadata": {
        "id": "DrQ_nmaczeTg"
      },
      "execution_count": null,
      "outputs": []
    },
    {
      "cell_type": "code",
      "source": [
        "#Count the occurrences of 'Tuesday' in the days tuple using the count method..\n",
        "\n",
        "days=(\"monday\",\"tuesday\",\"wednessday\")\n",
        "print(days)\n",
        "third_day=days[2]\n",
        "print(third_day)\n",
        "tuesday_count=days.count(\"tuesday\")\n",
        "print(tuesday_count)\n"
      ],
      "metadata": {
        "colab": {
          "base_uri": "https://localhost:8080/"
        },
        "id": "bAi2XMZ68WyD",
        "outputId": "408aea3a-946d-4b93-db7f-c7e7c2987512"
      },
      "execution_count": 16,
      "outputs": [
        {
          "output_type": "stream",
          "name": "stdout",
          "text": [
            "('monday', 'tuesday', 'wednessday')\n",
            "wednessday\n",
            "1\n"
          ]
        }
      ]
    }
  ],
  "metadata": {
    "colab": {
      "provenance": []
    },
    "kernelspec": {
      "display_name": "Python 3",
      "name": "python3"
    },
    "language_info": {
      "name": "python"
    }
  },
  "nbformat": 4,
  "nbformat_minor": 0
}