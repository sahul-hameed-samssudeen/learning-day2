{
  "cells": [
    {
      "cell_type": "code",
      "execution_count": 41,
      "metadata": {
        "colab": {
          "base_uri": "https://localhost:8080/",
          "height": 69
        },
        "id": "MblfSPtSc9r1",
        "outputId": "11b6204c-ef7c-44ee-e46d-61899647ba72"
      },
      "outputs": [
        {
          "output_type": "display_data",
          "data": {
            "text/plain": [
              "{'name': 'alice', 'age': '15', 'grade': 'A'}"
            ]
          },
          "metadata": {}
        },
        {
          "output_type": "stream",
          "name": "stdout",
          "text": [
            "{'name': 'alice', 'age': '15', 'grade': 'B'}\n"
          ]
        },
        {
          "output_type": "execute_result",
          "data": {
            "text/plain": [
              "dict_keys(['name', 'age', 'grade'])"
            ]
          },
          "metadata": {},
          "execution_count": 41
        }
      ],
      "source": [
        "#Use the keys method to get the list of keys from the student dictionary.\n",
        "student={\"name\":\"alice\",\"age\":\"15\",\"grade\":\"A\"}\n",
        "display(student)\n",
        "student[\"grade\"]=\"B\"\n",
        "print(student)\n",
        "student.keys()\n"
      ]
    },
    {
      "cell_type": "code",
      "source": [
        "#Use the keys method to get the list of keys from the student dictionary.\n",
        "student={\"name\":\"alice\",\"age\":\"15\",\"grade\":\"A\"}\n",
        "display(student)\n",
        "student[\"grade\"]=\"B\"\n",
        "print(student)\n",
        "student.values()"
      ],
      "metadata": {
        "colab": {
          "base_uri": "https://localhost:8080/",
          "height": 69
        },
        "id": "Kfq3-kYOoTQB",
        "outputId": "f001f6de-70c3-46e0-a588-f2196262ac0f"
      },
      "execution_count": 42,
      "outputs": [
        {
          "output_type": "display_data",
          "data": {
            "text/plain": [
              "{'name': 'alice', 'age': '15', 'grade': 'A'}"
            ]
          },
          "metadata": {}
        },
        {
          "output_type": "stream",
          "name": "stdout",
          "text": [
            "{'name': 'alice', 'age': '15', 'grade': 'B'}\n"
          ]
        },
        {
          "output_type": "execute_result",
          "data": {
            "text/plain": [
              "dict_values(['alice', '15', 'B'])"
            ]
          },
          "metadata": {},
          "execution_count": 42
        }
      ]
    }
  ],
  "metadata": {
    "colab": {
      "provenance": []
    },
    "kernelspec": {
      "display_name": "Python 3",
      "name": "python3"
    },
    "language_info": {
      "name": "python"
    }
  },
  "nbformat": 4,
  "nbformat_minor": 0
}