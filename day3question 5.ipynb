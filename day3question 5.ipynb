{
  "cells": [
    {
      "cell_type": "markdown",
      "source": [],
      "metadata": {
        "id": "XD-1yKuNuyLx"
      }
    },
    {
      "cell_type": "code",
      "source": [
        "number=int(input(\"enter the value  to check the categorize : \"))\n",
        "if(number>0):\n",
        "    print(\"positive\")\n",
        "elif(number<0):\n",
        "    print(\"nagative\")\n",
        "elif(number==0):\n",
        "    print(\"zero\")\n"
      ],
      "metadata": {
        "colab": {
          "base_uri": "https://localhost:8080/"
        },
        "id": "L8KfhSEHwkjm",
        "outputId": "fcfe8c3a-df2d-4728-e624-a46d287b9e94"
      },
      "execution_count": 17,
      "outputs": [
        {
          "output_type": "stream",
          "name": "stdout",
          "text": [
            "enter the value  to check the categorize : 19\n",
            "positive\n"
          ]
        }
      ]
    }
  ],
  "metadata": {
    "colab": {
      "provenance": []
    },
    "kernelspec": {
      "display_name": "Python 3",
      "name": "python3"
    },
    "language_info": {
      "name": "python"
    }
  },
  "nbformat": 4,
  "nbformat_minor": 0
}