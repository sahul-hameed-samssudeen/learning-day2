{
  "cells": [
    {
      "cell_type": "code",
      "execution_count": 32,
      "metadata": {
        "colab": {
          "base_uri": "https://localhost:8080/",
          "height": 52
        },
        "id": "MblfSPtSc9r1",
        "outputId": "9b872cf6-0752-4216-d984-4db5661ad1ad"
      },
      "outputs": [
        {
          "output_type": "display_data",
          "data": {
            "text/plain": [
              "{'name': 'alice', 'age': '15', 'grade': 'A'}"
            ]
          },
          "metadata": {}
        },
        {
          "output_type": "stream",
          "name": "stdout",
          "text": [
            "{'name': 'alice', 'age': '15', 'grade': 'B'}\n"
          ]
        }
      ],
      "source": [
        "#Update the 'grade' value in the student dictionary to 'B'.\n",
        "student={\"name\":\"alice\",\"age\":\"15\",\"grade\":\"A\"}\n",
        "display(student)\n",
        "student[\"grade\"]=\"B\"\n",
        "print(student)"
      ]
    }
  ],
  "metadata": {
    "colab": {
      "provenance": []
    },
    "kernelspec": {
      "display_name": "Python 3",
      "name": "python3"
    },
    "language_info": {
      "name": "python"
    }
  },
  "nbformat": 4,
  "nbformat_minor": 0
}